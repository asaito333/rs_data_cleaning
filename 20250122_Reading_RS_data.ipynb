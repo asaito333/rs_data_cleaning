{
 "cells": [
  {
   "cell_type": "code",
   "execution_count": 1,
   "metadata": {},
   "outputs": [
    {
     "name": "stdout",
     "output_type": "stream",
     "text": [
      "Intel MKL WARNING: Support of Intel(R) Streaming SIMD Extensions 4.2 (Intel(R) SSE4.2) enabled only processors has been deprecated. Intel oneAPI Math Kernel Library 2025.0 will require Intel(R) Advanced Vector Extensions (Intel(R) AVX) instructions.\n",
      "Intel MKL WARNING: Support of Intel(R) Streaming SIMD Extensions 4.2 (Intel(R) SSE4.2) enabled only processors has been deprecated. Intel oneAPI Math Kernel Library 2025.0 will require Intel(R) Advanced Vector Extensions (Intel(R) AVX) instructions.\n"
     ]
    }
   ],
   "source": [
    "## Import libraries\n",
    "\n",
    "# Basics\n",
    "import numpy as np\n",
    "import pandas as pd\n",
    "import os\n",
    "from datetime import datetime\n",
    "from collections import defaultdict\n",
    "\n",
    "# Plotting / Mapping\n",
    "import matplotlib.pyplot as plt\n",
    "# from matplotlib.colors import ListedColormap, BoundaryNorm, colors\n",
    "# from IPython.display import display\n",
    "# from PIL import Image\n",
    "# import branca.colormap as cm\n",
    "import plotly.express as px\n",
    "# import folium\n",
    "# from folium.raster_layers import ImageOverlay\n",
    "\n",
    "# Geo\n",
    "from dataretrieval import nwis\n",
    "import rasterio\n",
    "from rasterio.mask import mask\n",
    "# from rasterio.plot import show, reshape_as_image\n",
    "# from rasterio.transform import from_bounds, array_bounds\n",
    "# from rasterio.warp import calculate_default_transform, reproject, Resampling\n",
    "import geopandas as gpd\n",
    "from shapely.geometry import mapping, box\n",
    "# import richdem as rd\n",
    "\n",
    "# Sklearn\n",
    "from sklearn.decomposition import PCA\n",
    "from sklearn.linear_model import LinearRegression\n",
    "from sklearn.model_selection import train_test_split\n",
    "from sklearn.metrics import r2_score, mean_squared_error\n",
    "\n",
    "\n"
   ]
  },
  {
   "cell_type": "code",
   "execution_count": 2,
   "metadata": {},
   "outputs": [],
   "source": [
    "import pickle"
   ]
  },
  {
   "cell_type": "markdown",
   "metadata": {},
   "source": [
    "# Data Cleaning\n",
    "1. Create empty np.array for each stream and store them in one dictionary\n",
    "2. Extract 25 values for each stream from GFDS data\n",
    "    - Repeat\n",
    "        - Open one geotiff file\n",
    "        - Extract 25 values for all the streams\n",
    "        - Save the 25 values into each stream array"
   ]
  },
  {
   "cell_type": "code",
   "execution_count": 3,
   "metadata": {},
   "outputs": [
    {
     "name": "stderr",
     "output_type": "stream",
     "text": [
      "/Users/asumi/opt/anaconda3/envs/Research/lib/python3.12/site-packages/openpyxl/worksheet/_read_only.py:85: UserWarning: Unknown extension is not supported and will be removed\n",
      "  for idx, row in parser.parse():\n"
     ]
    },
    {
     "data": {
      "text/html": [
       "<div>\n",
       "<style scoped>\n",
       "    .dataframe tbody tr th:only-of-type {\n",
       "        vertical-align: middle;\n",
       "    }\n",
       "\n",
       "    .dataframe tbody tr th {\n",
       "        vertical-align: top;\n",
       "    }\n",
       "\n",
       "    .dataframe thead th {\n",
       "        text-align: right;\n",
       "    }\n",
       "</style>\n",
       "<table border=\"1\" class=\"dataframe\">\n",
       "  <thead>\n",
       "    <tr style=\"text-align: right;\">\n",
       "      <th></th>\n",
       "      <th>STATION ID</th>\n",
       "      <th>STATION NAME</th>\n",
       "      <th>CLASS</th>\n",
       "      <th>AGGECOREGION</th>\n",
       "      <th>DRAIN_SQKM</th>\n",
       "      <th>HUC02</th>\n",
       "      <th>LAT_GAGE</th>\n",
       "      <th>LONG_GAGE</th>\n",
       "      <th>STATE</th>\n",
       "      <th>ACTIVE09</th>\n",
       "      <th>FLOWYRS_1900_2009</th>\n",
       "      <th>FLOWYRS_1950_2009</th>\n",
       "      <th>FLOWYRS_1990_2009</th>\n",
       "    </tr>\n",
       "  </thead>\n",
       "  <tbody>\n",
       "    <tr>\n",
       "      <th>0</th>\n",
       "      <td>1013500</td>\n",
       "      <td>Fish River near Fort Kent, Maine</td>\n",
       "      <td>Ref</td>\n",
       "      <td>NorthEast</td>\n",
       "      <td>2252.6960</td>\n",
       "      <td>1</td>\n",
       "      <td>47.237394</td>\n",
       "      <td>-68.582642</td>\n",
       "      <td>ME</td>\n",
       "      <td>yes</td>\n",
       "      <td>85</td>\n",
       "      <td>60</td>\n",
       "      <td>20</td>\n",
       "    </tr>\n",
       "    <tr>\n",
       "      <th>1</th>\n",
       "      <td>1022500</td>\n",
       "      <td>Narraguagus River at Cherryfield, Maine</td>\n",
       "      <td>Ref</td>\n",
       "      <td>NorthEast</td>\n",
       "      <td>573.6006</td>\n",
       "      <td>1</td>\n",
       "      <td>44.607972</td>\n",
       "      <td>-67.935242</td>\n",
       "      <td>ME</td>\n",
       "      <td>yes</td>\n",
       "      <td>61</td>\n",
       "      <td>60</td>\n",
       "      <td>20</td>\n",
       "    </tr>\n",
       "    <tr>\n",
       "      <th>2</th>\n",
       "      <td>1030500</td>\n",
       "      <td>Mattawamkeag River near Mattawamkeag, Maine</td>\n",
       "      <td>Ref</td>\n",
       "      <td>NorthEast</td>\n",
       "      <td>3676.1720</td>\n",
       "      <td>1</td>\n",
       "      <td>45.500975</td>\n",
       "      <td>-68.305956</td>\n",
       "      <td>ME</td>\n",
       "      <td>yes</td>\n",
       "      <td>75</td>\n",
       "      <td>60</td>\n",
       "      <td>20</td>\n",
       "    </tr>\n",
       "  </tbody>\n",
       "</table>\n",
       "</div>"
      ],
      "text/plain": [
       "   STATION ID                                 STATION NAME CLASS AGGECOREGION  \\\n",
       "0     1013500             Fish River near Fort Kent, Maine   Ref    NorthEast   \n",
       "1     1022500      Narraguagus River at Cherryfield, Maine   Ref    NorthEast   \n",
       "2     1030500  Mattawamkeag River near Mattawamkeag, Maine   Ref    NorthEast   \n",
       "\n",
       "   DRAIN_SQKM HUC02   LAT_GAGE  LONG_GAGE STATE ACTIVE09  FLOWYRS_1900_2009  \\\n",
       "0   2252.6960     1  47.237394 -68.582642    ME      yes                 85   \n",
       "1    573.6006     1  44.607972 -67.935242    ME      yes                 61   \n",
       "2   3676.1720     1  45.500975 -68.305956    ME      yes                 75   \n",
       "\n",
       "   FLOWYRS_1950_2009  FLOWYRS_1990_2009  \n",
       "0                 60                 20  \n",
       "1                 60                 20  \n",
       "2                 60                 20  "
      ]
     },
     "execution_count": 3,
     "metadata": {},
     "output_type": "execute_result"
    }
   ],
   "source": [
    "# Read HCDN info\n",
    "hcdn = pd.read_excel('HCDN-2009_Station_Info.xlsx')\n",
    "hcdn.head(3)"
   ]
  },
  {
   "cell_type": "code",
   "execution_count": 19,
   "metadata": {},
   "outputs": [
    {
     "data": {
      "text/plain": [
       "365"
      ]
     },
     "execution_count": 19,
     "metadata": {},
     "output_type": "execute_result"
    }
   ],
   "source": [
    "# Define GFDS path \n",
    "dir_path = '/Users/asumi/Downloads/AvgMagTiffs/2018'\n",
    "file_list = os.listdir(dir_path)\n",
    "file_list = list(set(file_list))\n",
    "file_list.remove('.DS_Store')\n",
    "file_list.sort()\n",
    "len(file_list)"
   ]
  },
  {
   "cell_type": "code",
   "execution_count": 51,
   "metadata": {},
   "outputs": [],
   "source": [
    "# Extract GFDS for all the streams\n",
    "\n",
    "# Create empty dictionary to store data\n",
    "# Dict key is set to gage(station) no.\n",
    "stream_patches = defaultdict(list)\n",
    "\n",
    "for item in file_list:\n",
    "    \n",
    "    # file path for RS data\n",
    "    file_path = os.path.join(dir_path, item)\n",
    "    # save file date as string (this process is specifict to my data)\n",
    "    date_str = item[33:41]\n",
    "\n",
    "    with rasterio.open(file_path) as src:\n",
    "\n",
    "        for idx, row in hcdn.iterrows():\n",
    "            lat, lon = row['LAT_GAGE'], row['LONG_GAGE']\n",
    "            station_id = row['STATION ID']\n",
    "\n",
    "            # identify row and column of gage location\n",
    "            row, col = src.index(lon, lat)\n",
    "            # create window of 5 x 5 cells centered to gage location\n",
    "            window = rasterio.windows.Window(col-2, row-2, 5, 5)\n",
    "\n",
    "            # filter the raster file with the window\n",
    "            patch = src.read(1, window=window)\n",
    "\n",
    "            # cutoff outliers (this process is specifict to my data)\n",
    "            patch = patch.astype(np.float32)\n",
    "            patch[patch < -30000] = np.nan\n",
    "\n",
    "            # flattern 5x5 cells into a list\n",
    "            patch_list = patch.flatten().tolist()\n",
    "            patch_list.insert(0,date_str)\n",
    "\n",
    "            # store the cell values into dictionary\n",
    "            stream_patches[station_id].append(patch_list)\n",
    "\n",
    "# Convert list to np.array\n",
    "for station_id in stream_patches:\n",
    "    stream_patches[station_id] = np.array(stream_patches[station_id])\n",
    "\n",
    "    "
   ]
  },
  {
   "cell_type": "code",
   "execution_count": null,
   "metadata": {},
   "outputs": [],
   "source": [
    "# Store the dict to pickle\n",
    "with open(\"stream_patch_2018.pkl\", 'wb') as f:\n",
    "    pickle.dump(stream_patches, f)"
   ]
  },
  {
   "cell_type": "code",
   "execution_count": 4,
   "metadata": {},
   "outputs": [],
   "source": [
    "# Read pickle\n",
    "with open('stream_patch_2018.pkl', 'rb') as f:\n",
    "    stream_patches = pickle.load(f)"
   ]
  },
  {
   "cell_type": "code",
   "execution_count": 9,
   "metadata": {},
   "outputs": [
    {
     "data": {
      "text/plain": [
       "array([['20180101', '2742.0', '2894.0', ..., '-912.0', '-941.0',\n",
       "        '-1380.0'],\n",
       "       ['20180102', '2677.0', '2585.0', ..., '-894.0', '-1055.0',\n",
       "        '-1432.0'],\n",
       "       ['20180103', '3589.0', '3623.0', ..., '-576.0', '-834.0',\n",
       "        '-1343.0'],\n",
       "       ...,\n",
       "       ['20181229', '1353.0', '1188.0', ..., '842.0', '1111.0', '32.0'],\n",
       "       ['20181230', '2289.0', '1299.0', ..., '738.0', '660.0', '-54.0'],\n",
       "       ['20181231', '2354.0', '1521.0', ..., '1055.0', '1001.0', '92.0']],\n",
       "      dtype='<U32')"
      ]
     },
     "execution_count": 9,
     "metadata": {},
     "output_type": "execute_result"
    }
   ],
   "source": [
    "stream_patches[1030500]"
   ]
  },
  {
   "cell_type": "code",
   "execution_count": null,
   "metadata": {},
   "outputs": [],
   "source": []
  }
 ],
 "metadata": {
  "kernelspec": {
   "display_name": "Research",
   "language": "python",
   "name": "python3"
  },
  "language_info": {
   "codemirror_mode": {
    "name": "ipython",
    "version": 3
   },
   "file_extension": ".py",
   "mimetype": "text/x-python",
   "name": "python",
   "nbconvert_exporter": "python",
   "pygments_lexer": "ipython3",
   "version": "3.12.5"
  }
 },
 "nbformat": 4,
 "nbformat_minor": 2
}
